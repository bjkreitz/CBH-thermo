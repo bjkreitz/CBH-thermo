{
 "cells": [
  {
   "cell_type": "markdown",
   "id": "bc4012c1",
   "metadata": {},
   "source": [
    "# Notebook to compute the heat of formation of the experimental reference adsorbates for the CBH approach\n",
    "\n",
    "created by Bjarne Kreitz, Kento Abeywardane and C. Franklin Goldsmith (Brown University)\n",
    "\n",
    "This notebook stores the available literature data and computes the heat of formation of the experimental reference species for the CBH paper\n",
    "\n",
    "\n",
    "| reaction | $$\\Delta H_{rxn}\\, /\\, \\text{kJ mol}^{-1}$$   | temperature / K | Coverage | reference | \n",
    "|--- |----------| ------|--------| --------|\n",
    "| $$H_2 + 2 Pt(111) \\rightleftharpoons 2\\, ^*H $$ | -72 | 300 | 1/16 | Wellendorff et al., Surf. Sci. 2015, 640, 36-44|\n",
    "| $$O_2 + 2 Pt(111) \\rightleftharpoons 2\\, ^*O $$ | -208 | 515 | 1/9 | Wellendorff et al., Surf. Sci. 2015, 640, 36-44|\n",
    "| $$CO +  Pt(111) \\rightleftharpoons \\,^*CO $$ | -120 | 340 | 1/4 | Wellendorff et al., Surf. Sci. 2015, 640, 36-44|\n",
    "| $$CH_3OH +  Pt(111) \\rightleftharpoons \\, CH_3OH^* $$ | -57 | 100| 1/9 | Karp et al., J. Am. Chem. Soc. 2012, 134, 20388-20395|\n",
    "| $$CH_4 +  Pt(111) \\rightleftharpoons \\, CH_4^* $$ | -15 | 63 | 1/2 | Wellendorff et al., Surf. Sci. 2015, 640, 36-44|\n",
    "| $$CH_3CH_3 +  Pt(111) \\rightleftharpoons \\,CH_3CH_3^* $$ | -29 | 106| 1/3 | Wellendorff et al., Surf. Sci. 2015, 640, 36-44|\n",
    "| $$H_2O +  Pt(111) \\rightleftharpoons \\,H_2O^* $$ | -31.3 | 120| 1/16 | Wellendorff et al., Surf. Sci. 2015, 640, 36-44|\n",
    "| $$H_2CO +  Pt(111) \\rightleftharpoons \\,H_2CO^* $$ | -55.23 | 235| - | Abbas and Madix, Appl. Surf. Sci. 1981, 7, 241-275|\n",
    "| $$CH_2CH_2 +  Pt(111) \\rightleftharpoons \\,CH_2CH_2^* $$ | -40 | 112 | - | Kubota et al., Surf. Sci., 1996, 357-358, 634-638|\n",
    "| $$CH_3I +  2 Pt(111) \\rightleftharpoons \\,^*CH_3 + ^*I $$ | -210 | 320| 1/25 | Karp et al., J. Am. Chem. Soc. 2013, 135, 5208-5211|\n",
    "| $$CH_2I_2 +  2 Pt(111) \\rightleftharpoons \\,^*CH_2 + 2 ^*I $$ | -212 | 100| - | Wolcott et al., J. Phys. Chem. C, 2014, 118, 29310-29321|\n",
    "| $$CH_2I_2 +  3 Pt(111) \\rightleftharpoons \\,^*CH + 2 ^*I + ^*H $$ | -506 | 210| 1/12 | Wolcott et al., J. Phys. Chem. C, 2014, 118, 29310-29321|\n",
    "| $$CH_3CH_2CH_3 +  Pt(111) \\rightleftharpoons \\,CH_3CH_2CH_3^* $$ | -41.3 | 139| 1/4 | Wellendorff et al., Surf. Sci. 2015, 640, 36-44|\n",
    "| $$HCOOH +  Pt(111) \\rightleftharpoons \\,HCOOH^* $$ | -58 | 100 | 1/4 | Silbaugh et al., J. Am. Chem. Soc. 2014, 136, 3964-3971|\n",
    "| $$HCOOH +  ^*O \\rightleftharpoons \\,HCO^*O + ^*OH $$ | -78 | 130 | 1/4 | Silbaugh et al., J. Am. Chem. Soc. 2014, 136, 3964-3971|"
   ]
  },
  {
   "cell_type": "markdown",
   "id": "8418fc06",
   "metadata": {},
   "source": [
    "Values for gas-phase species from the ATcT database (version 1.124)\n",
    "\n",
    "| species | $$\\Delta_f H\\, /\\, \\text{kJ mol}^{-1}$$   | temperature / K |\n",
    "|--- |----------| ------| \n",
    "| $$H_2$$ | 0 | 298.15 | \n",
    "| $$H$$ | 217.998 | 298.15 | \n",
    "| $$O_2$$ | 0 | 298.15 | \n",
    "| $$CO$$ | -110.524 | 298.15 | \n",
    "| $$CH_4$$ | -74.520 | 298.15 | \n",
    "| $$CH_3OH$$ | -200.92 | 298.15 | \n",
    "| $$C_2H_6$$ | -84.02| 298.15 | \n",
    "| $$H_2O$$ | -241.801| 298.15 | \n",
    "| $$H_2CO$$ | -109.229| 298.15 | \n",
    "| $$C_2H_4$$ | 52.38| 298.15 | \n",
    "| $$CH_3I$$ | 14.86| 298.15 |\n",
    "| $$CH_2I_2$$ | 119.16 | 0 | \n",
    "| $$CH_3CH_2CH_3$$ | -105 | 298.15 | \n",
    "\n",
    "The heat of formation of $CH_2I_2$ is not available in the ATcT database and was computed by Franklin Goldsmith using xxx. "
   ]
  },
  {
   "cell_type": "markdown",
   "id": "6595f5c8",
   "metadata": {},
   "source": [
    "The experimental heat of formation of the adsorbate is computed at 298K and needs to be corrected to 0K because the heat of reaction are all at 0K.\n",
    "\n",
    "Correction factors are the following:\n",
    "\n",
    "| species | $$\\Delta\\Delta_f H\\, /\\, \\text{kJ mol}^{-1}$$ |\n",
    "|--- |----------|  \n",
    "| $$^*H$$ | -3.30 | \n",
    "| $$^*CH$$ | -2.88  | \n",
    "| $$^*CH_2$$ | -5.66  | \n",
    "| $$^*CH_3$$ | -7.77  | \n",
    "| $$CH_4^*$$ | -7.02 | \n",
    "| $$C_2H_4^*$$ | -9.23 | \n",
    "| $$C_2H_6^*$$ | -16.81 | \n",
    "| $$H_2O^*$$ | -4.84 | \n",
    "| $$^*OH$$ | -2.16 |\n",
    "| $$H_2CO^*$$ | -4.75 | \n",
    "| $$CH_3OH^*$$ | -11.47  | \n",
    "\n",
    "The heat of formation at 0K is less negative than the heat of formation at 298K from DFT"
   ]
  },
  {
   "cell_type": "code",
   "execution_count": 2,
   "id": "8749ad15",
   "metadata": {},
   "outputs": [],
   "source": [
    "import numpy as np\n",
    "import cantera as ct\n",
    "\n",
    "#import the cti file that contains the NASA polynomials for the gas-phase and surface species\n",
    "\n",
    "cti_file = 'chem_polynomials.cti'\n",
    "    \n",
    "gas = ct.Solution(cti_file, 'gas')\n",
    "gas.TPX = 298.15, ct.one_atm, 'N2:1'\n",
    "\n",
    "#Dictionary with all values from the ATcT database (version 1.124)\n",
    "ATcT={'H2':0, \n",
    "      'H':217.998, \n",
    "      'O2':0, \n",
    "      'CO':-110.524,\n",
    "      'CH4':-74.520,\n",
    "      'CH3OH':-200.92,\n",
    "      'C2H6':-84.02,\n",
    "      'H2O': -241.801,\n",
    "      'CH2O':-109.229,\n",
    "      'C2H4':52.38,\n",
    "      'CH3I':14.86,\n",
    "      'CH2I2':119.16,\n",
    "      'C3H8':-105.00,\n",
    "      'HCOOH': -378.37,\n",
    "        }\n",
    "\n",
    "#Dictionary with correction factors to compute the heat of formation at 0K from the heat of formation at 298K\n",
    "# This correction factor is estimated based on the correction of the DFT heat of formation from 0K to 298K\n",
    "correction_factor={\n",
    "      'HX':-3.30, \n",
    "      'OX':-1.695,\n",
    "      'CHX':-2.88 , \n",
    "      'CH2X':-5.66,\n",
    "      'CH3X':-7.77,\n",
    "      'CH4X':-7.02,\n",
    "      'C2H4X':-9.23,\n",
    "      'C2H6X': -16.81,\n",
    "      'H2OX':-4.84,\n",
    "      'OHX':-2.16,\n",
    "      'CH2OX':-4.75,\n",
    "      'CH3OHX':-11.47,\n",
    "      'HCOOX':-4.07,\n",
    "      'HCOOHX':-6.68,\n",
    "      'CH3OX':-10.58,\n",
    "      'C3H8X':-22.41,\n",
    "      'CHCH3X':-10.378,\n",
    "      'CCH3X':-6.758,\n",
    "        }\n",
    "\n",
    "\"\"\"\n",
    "We only use the temperature dependence of the heat of formation from the NASA polynomial and not \n",
    "the heat of formation, because the ATcT database is continuously updated. This is a function to compute \n",
    "the heat of formation at a specific temperature using the ATcT heats of formation and the NASA polynomial.\n",
    "\"\"\"\n",
    "\n",
    "def get_h_texp(spcs,temp):\n",
    "    #heat of formation from ATcT database\n",
    "    hf_atct=ATcT[spcs]\n",
    "    idx=gas.species_index(spcs)\n",
    "    \n",
    "    #Compute the enthalpy of formation at standard conditions from the NASA polynomial\n",
    "    gas.TP=298.15, ct.one_atm\n",
    "    hf_std=gas.standard_enthalpies_RT[idx]\n",
    "    hf_std*=gas.T*ct.gas_constant/1e6 #in kJ/mol\n",
    "    #print('at std', hf_std)\n",
    "\n",
    "    #Compute the enthalpy at the temperature of the experiment from the NASA polynomial\n",
    "    gas.TP=temp, ct.one_atm\n",
    "    hf=gas.standard_enthalpies_RT[idx]\n",
    "    hf*=gas.T*ct.gas_constant/1e6 #in kJ/mol\n",
    "    #print('at exp',hf)\n",
    "    #Compute the difference in enthalpy between both temperatures from the NASA polynomial\n",
    "    delta_hf_polynomial=hf-hf_std\n",
    "    \n",
    "    #Apply the temperature correction to the heat of formation from the ATcT database\n",
    "    hf_corrected=hf_atct+delta_hf_polynomial\n",
    "    return hf_corrected\n",
    "\n",
    "def get_hf_ads_corr(spcs,temp):\n",
    "\n",
    "    #Surface species and gas-phase species are in the same phase (called \"gas\")\n",
    "    idx=gas.species_index(spcs)\n",
    "    \n",
    "    #Compute the enthalpy at standard conditions from the NASA polynomial\n",
    "    gas.TP=298.15, ct.one_atm\n",
    "    hf_std=gas.standard_enthalpies_RT[idx]\n",
    "    hf_std*=gas.T*ct.gas_constant/1e6 #in kJ/mol\n",
    "    #print('ads at std', hf_std)\n",
    "    #Compute the enthalpy at the temperature of the experiment from the NASA polynomial\n",
    "    gas.TP=temp, ct.one_atm\n",
    "    hf=gas.standard_enthalpies_RT[idx]\n",
    "    hf*=gas.T*ct.gas_constant/1e6 #in kJ/mol\n",
    "    #print('ads at exp',hf)\n",
    "    #Compute the difference in enthalpy from the polynomials, which is used as a correction factor\n",
    "    delta_hf_polynomial=hf_std-hf\n",
    "    \n",
    "    return delta_hf_polynomial\n"
   ]
  },
  {
   "cell_type": "markdown",
   "id": "399c283e",
   "metadata": {},
   "source": [
    "### Determine the heat of formation of H*\n",
    "\n",
    "This can be directly computed from the reported experimental value. \n",
    "$$H_2 + 2 Pt \\rightleftharpoons 2\\, ^*H $$ \n",
    "\n",
    "$$2\\Delta_fH_{H*} - \\Delta_fH_{H_2} - 2\\Delta_fH_{Pt}=-72 kJ mol^{-1}$$\n",
    "The heat of formation of the adsorption site ($\\Delta_fH_{Pt}$) will be omitted in all following fields because it is always 0 by definition. The heat of reaction for this step is -72 kJ mol$^{-1}$.\n",
    "\n",
    "The heat of formation of H2 has to be corrected to the experimental temperature of 300K.\n"
   ]
  },
  {
   "cell_type": "code",
   "execution_count": 68,
   "id": "e33e4c74",
   "metadata": {
    "scrolled": true
   },
   "outputs": [
    {
     "name": "stdout",
     "output_type": "stream",
     "text": [
      "adsorbate heat of formation at Texp=-35.97 kJ/mol\n",
      "adsorbate heat of formation at 298K =-35.99 kJ/mol\n",
      "adsorbate heat of formation at 0K =-32.69 kJ/mol\n"
     ]
    }
   ],
   "source": [
    "hf_hads=-72+get_h_texp('H2', 300)\n",
    "hf_hads/=2\n",
    "hf_stp=hf_hads+get_hf_ads_corr('HX', 300)\n",
    "hf_0K=hf_stp-correction_factor['HX']\n",
    "print(f\"adsorbate heat of formation at Texp={hf_hads:.4} kJ/mol\")\n",
    "print(f\"adsorbate heat of formation at 298K ={hf_stp:.4} kJ/mol\")\n",
    "print(f\"adsorbate heat of formation at 0K ={hf_0K:.4} kJ/mol\")"
   ]
  },
  {
   "cell_type": "markdown",
   "id": "0ac886d1",
   "metadata": {},
   "source": [
    "### Determine the heat of formation of O*\n",
    "\n",
    "This can be directly computed from the reported experimental value. \n",
    "$$O_2 + 2 Pt \\rightleftharpoons 2\\, ^*O $$ \n",
    "\n",
    "$$2\\Delta_fH_{O*} - \\Delta_fH_{O_2} - 2\\Delta_fH_{Pt}=-208 kJ mol^{-1}$$\n",
    "The heat of reaction for this step is -208 kJ mol$^{-1}$.\n",
    "\n",
    "The heat of formation of O2 has to be corrected to the experimental temperature of 515K."
   ]
  },
  {
   "cell_type": "code",
   "execution_count": 13,
   "id": "bec9c24a",
   "metadata": {},
   "outputs": [
    {
     "name": "stdout",
     "output_type": "stream",
     "text": [
      "adsorbate heat of formation at Texp=-100.7 kJ/mol\n",
      "adsorbate heat of formation at 298 =-105.4 kJ/mol\n",
      "adsorbate heat of formation at 130 =-108.1 kJ/mol\n",
      "adsorbate heat of formation at 130 =-103.7 kJ/mol\n"
     ]
    }
   ],
   "source": [
    "hf_hads=-208+get_h_texp('O2', 515)\n",
    "hf_hads/=2\n",
    "hf_stp=hf_hads+get_hf_ads_corr('OX', 515)\n",
    "hf_130K=hf_stp-get_hf_ads_corr('OX', 130)\n",
    "hf_0K=hf_stp-correction_factor['OX']\n",
    "print(f\"adsorbate heat of formation at Texp={hf_hads:.4} kJ/mol\")\n",
    "print(f\"adsorbate heat of formation at 298 ={hf_stp:.4} kJ/mol\")\n",
    "print(f\"adsorbate heat of formation at 130 ={hf_130K:.4} kJ/mol\")\n",
    "print(f\"adsorbate heat of formation at 130 ={hf_0K:.4} kJ/mol\")"
   ]
  },
  {
   "cell_type": "markdown",
   "id": "12d86c27",
   "metadata": {},
   "source": [
    "### Determine the heat of formation of *CO\n",
    "\n",
    "This can be directly computed from the reported experimental value. \n",
    "$$CO + Pt \\rightleftharpoons \\,^*CO $$ \n",
    "\n",
    "$$\\Delta_fH_{*CO} - \\Delta_fH_{CO} - \\Delta_fH_{Pt}=-120 kJ mol^{-1}$$\n",
    "The heat of reaction for this step is -120 kJ mol$^{-1}$.\n",
    "\n",
    "The heat of formation of CO has to be corrected to the experimental temperature of 340K."
   ]
  },
  {
   "cell_type": "code",
   "execution_count": 71,
   "id": "f26cc586",
   "metadata": {},
   "outputs": [
    {
     "name": "stdout",
     "output_type": "stream",
     "text": [
      "adsorbate heat of formation at Texp=-229.3 kJ/mol\n",
      "adsorbate heat of formation at 298 =-230.9 kJ/mol\n"
     ]
    }
   ],
   "source": [
    "hf_hads=-120+get_h_texp('CO', 340)\n",
    "hf_stp=hf_hads+get_hf_ads_corr('OCX', 340)\n",
    "print(f\"adsorbate heat of formation at Texp={hf_hads:.4} kJ/mol\")\n",
    "print(f\"adsorbate heat of formation at 298 ={hf_stp:.4} kJ/mol\")"
   ]
  },
  {
   "cell_type": "markdown",
   "id": "fef975c6",
   "metadata": {},
   "source": [
    "### Determine the heat of formation of *CH4\n",
    "\n",
    "This can be directly computed from the reported experimental value. \n",
    "$$CH_4 + Pt \\rightleftharpoons \\,^*CH_4 $$ \n",
    "The heat of reaction for this step is -15 kJ mol$^{-1}$.\n",
    "\n",
    "$$\\Delta_fH_{*CH4} - \\Delta_fH_{CH4} - \\Delta_fH_{Pt}=-15 kJ mol^{-1}$$\n",
    "\n",
    "The heat of formation of $CH_4$ has to be corrected to the experimental temperature of 63K."
   ]
  },
  {
   "cell_type": "code",
   "execution_count": 3,
   "id": "2b774f5b",
   "metadata": {},
   "outputs": [
    {
     "name": "stdout",
     "output_type": "stream",
     "text": [
      "adsorbate heat of formation at Texp=-97.6 kJ/mol\n",
      "adsorbate heat of formation at 298 =-88.32 kJ/mol\n",
      "adsorbate heat of formation at 0K =-81.3 kJ/mol\n"
     ]
    }
   ],
   "source": [
    "hf_hads=-15+get_h_texp('CH4', 63)\n",
    "hf_stp=hf_hads+get_hf_ads_corr('CH4X', 63)\n",
    "hf_0K=hf_stp-correction_factor['CH4X']\n",
    "print(f\"adsorbate heat of formation at Texp={hf_hads:.4} kJ/mol\")\n",
    "print(f\"adsorbate heat of formation at 298 ={hf_stp:.4} kJ/mol\")\n",
    "print(f\"adsorbate heat of formation at 0K ={hf_0K:.4} kJ/mol\")"
   ]
  },
  {
   "cell_type": "markdown",
   "id": "668cb24b",
   "metadata": {},
   "source": [
    "### Determine the heat of formation of *CH3OH\n",
    "\n",
    "This can be directly computed from the reported experimental value. \n",
    "$$CH_3OH + Pt \\rightleftharpoons \\,^*CH_3OH $$ \n",
    "The heat of reaction for this step is -57 kJ mol$^{-1}$.\n",
    "\n",
    "$$\\Delta_fH_{*CH_3OH} - \\Delta_fH_{CH_3OH} - \\Delta_fH_{Pt}=-57 kJ mol^{-1}$$\n",
    "\n",
    "The heat of formation of $CH_3OH$ has to be corrected to the experimental temperature of 100K."
   ]
  },
  {
   "cell_type": "code",
   "execution_count": 4,
   "id": "95cd4a4d",
   "metadata": {},
   "outputs": [
    {
     "name": "stdout",
     "output_type": "stream",
     "text": [
      "adsorbate heat of formation at Texp=-266.0 kJ/mol\n",
      "adsorbate heat of formation at 298 =-256.6 kJ/mol\n",
      "adsorbate heat of formation at 0K =-245.2 kJ/mol\n",
      "-207.0028648304897\n"
     ]
    }
   ],
   "source": [
    "hf_hads=-57+get_h_texp('CH3OH', 100)\n",
    "hf_stp=hf_hads+get_hf_ads_corr('CH3OHX', 100)\n",
    "hf_0K=hf_stp-correction_factor['CH3OHX']\n",
    "print(f\"adsorbate heat of formation at Texp={hf_hads:.4} kJ/mol\")\n",
    "print(f\"adsorbate heat of formation at 298 ={hf_stp:.4} kJ/mol\")\n",
    "print(f\"adsorbate heat of formation at 0K ={hf_0K:.4} kJ/mol\")\n",
    "print(get_h_texp('CH3OH', 150))"
   ]
  },
  {
   "cell_type": "markdown",
   "id": "d5b974db",
   "metadata": {},
   "source": [
    "### Determine the heat of formation of *C2H6\n",
    "\n",
    "This can be directly computed from the reported experimental value. \n",
    "$$C_2H_6 + Pt \\rightleftharpoons \\,^*C_2H_6 $$ \n",
    "The heat of reaction for this step is -29 kJ mol$^{-1}$.\n",
    "\n",
    "$$\\Delta_fH_{*C_2H_6} - \\Delta_fH_{C_2H_6} - \\Delta_fH_{Pt}=-29 kJ mol^{-1}$$\n",
    "\n",
    "The heat of formation of $C_2H_6$ has to be corrected to the experimental temperature of 106K."
   ]
  },
  {
   "cell_type": "code",
   "execution_count": 5,
   "id": "efd0445b",
   "metadata": {},
   "outputs": [
    {
     "name": "stdout",
     "output_type": "stream",
     "text": [
      "adsorbate heat of formation at Texp=-121.3 kJ/mol\n",
      "adsorbate heat of formation at 298 =-112.9 kJ/mol\n",
      "adsorbate heat of formation at 0K =-96.13 kJ/mol\n"
     ]
    }
   ],
   "source": [
    "hf_hads=-29+get_h_texp('C2H6', 106)\n",
    "hf_stp=hf_hads+get_hf_ads_corr('C2H6X', 106)\n",
    "hf_0K=hf_stp-correction_factor['C2H6X']\n",
    "print(f\"adsorbate heat of formation at Texp={hf_hads:.4} kJ/mol\")\n",
    "print(f\"adsorbate heat of formation at 298 ={hf_stp:.4} kJ/mol\")\n",
    "print(f\"adsorbate heat of formation at 0K ={hf_0K:.4} kJ/mol\")"
   ]
  },
  {
   "cell_type": "markdown",
   "id": "c8521172",
   "metadata": {},
   "source": [
    "### Determine the heat of formation of *H_2O\n",
    "\n",
    "This can be directly computed from the reported experimental value. \n",
    "$$H_2O + Pt \\rightleftharpoons \\,^*H_2O $$ \n",
    "The heat of reaction for this step is -31.3 kJ mol$^{-1}$.\n",
    "\n",
    "$$\\Delta_fH_{*H_2O} - \\Delta_fH_{H_2O} - \\Delta_fH_{Pt}=-31.3 kJ mol^{-1}$$\n",
    "This value is a extrapolated from the high coverage value of -51.3 (measured at 2/3 ML coverage) to 1/16 ML.\n",
    "The heat of formation of $H_2O$ has to be corrected to the experimental temperature of 120K."
   ]
  },
  {
   "cell_type": "code",
   "execution_count": 6,
   "id": "fed78198",
   "metadata": {},
   "outputs": [
    {
     "name": "stdout",
     "output_type": "stream",
     "text": [
      "adsorbate heat of formation at Texp=-278.7 kJ/mol\n",
      "adsorbate heat of formation at 298 =-272.7 kJ/mol\n",
      "adsorbate heat of formation at 0K =-267.9 kJ/mol\n"
     ]
    }
   ],
   "source": [
    "hf_hads=-31+get_h_texp('H2O', 120)\n",
    "hf_stp=hf_hads+get_hf_ads_corr('H2OX', 120)\n",
    "hf_0K=hf_stp-correction_factor['H2OX']\n",
    "print(f\"adsorbate heat of formation at Texp={hf_hads:.4} kJ/mol\")\n",
    "print(f\"adsorbate heat of formation at 298 ={hf_stp:.4} kJ/mol\")\n",
    "print(f\"adsorbate heat of formation at 0K ={hf_0K:.4} kJ/mol\")"
   ]
  },
  {
   "cell_type": "markdown",
   "id": "09aa72ce",
   "metadata": {},
   "source": [
    "### Determine the heat of formation of *H_2CO\n",
    "\n",
    "This can be directly computed from the reported experimental value. \n",
    "$$H_2CO + Pt \\rightleftharpoons \\,^*H_2CO $$ \n",
    "The heat of reaction for this step is -55.23 kJ mol$^{-1}$.\n",
    "\n",
    "$$\\Delta_fH_{*H_2CO} - \\Delta_fH_{H_2CO} - \\Delta_fH_{Pt}=-55.23 kJ mol^{-1}$$\n",
    "The heat of formation of $H_2CO$ has to be corrected to the experimental temperature of 235K."
   ]
  },
  {
   "cell_type": "code",
   "execution_count": 7,
   "id": "c3d0264b",
   "metadata": {},
   "outputs": [
    {
     "name": "stdout",
     "output_type": "stream",
     "text": [
      "adsorbate heat of formation at Texp=-166.6 kJ/mol\n",
      "adsorbate heat of formation at 298 =-164.1 kJ/mol\n",
      "adsorbate heat of formation at 0K =-159.3 kJ/mol\n"
     ]
    }
   ],
   "source": [
    "hf_hads=-55.23+get_h_texp('CH2O', 235)\n",
    "hf_stp=hf_hads+get_hf_ads_corr('CH2OX', 235)\n",
    "hf_0K=hf_stp-correction_factor['CH2OX']\n",
    "print(f\"adsorbate heat of formation at Texp={hf_hads:.4} kJ/mol\")\n",
    "print(f\"adsorbate heat of formation at 298 ={hf_stp:.4} kJ/mol\")\n",
    "print(f\"adsorbate heat of formation at 0K ={hf_0K:.4} kJ/mol\")"
   ]
  },
  {
   "cell_type": "markdown",
   "id": "9cce22c3",
   "metadata": {},
   "source": [
    "### Determine the heat of formation of *C2H4\n",
    "\n",
    "This can be directly computed from the reported experimental value. \n",
    "$$C_2H_4 + Pt \\rightleftharpoons \\,^*C_2H_4 $$ \n",
    "The heat of reaction for this step is -40 kJ mol$^{-1}$.\n",
    "\n",
    "$$\\Delta_fH_{*C_2H_4} - \\Delta_fH_{C_2H_4} - \\Delta_fH_{Pt}=-40 kJ mol^{-1}$$\n",
    "The heat of formation of $C_2H_4$ has to be corrected to the experimental temperature of 112K."
   ]
  },
  {
   "cell_type": "code",
   "execution_count": 8,
   "id": "9440143d",
   "metadata": {},
   "outputs": [
    {
     "name": "stdout",
     "output_type": "stream",
     "text": [
      "adsorbate heat of formation at Texp=5.708 kJ/mol\n",
      "adsorbate heat of formation at 298 =12.76 kJ/mol\n",
      "adsorbate heat of formation at 0K =21.99 kJ/mol\n"
     ]
    }
   ],
   "source": [
    "hf_hads=-40+get_h_texp('C2H4', 112)\n",
    "hf_stp=hf_hads+get_hf_ads_corr('C2H4X', 112)\n",
    "hf_0K=hf_stp-correction_factor['C2H4X']\n",
    "print(f\"adsorbate heat of formation at Texp={hf_hads:.4} kJ/mol\")\n",
    "print(f\"adsorbate heat of formation at 298 ={hf_stp:.4} kJ/mol\")\n",
    "print(f\"adsorbate heat of formation at 0K ={hf_0K:.4} kJ/mol\")"
   ]
  },
  {
   "cell_type": "markdown",
   "id": "a63c3beb",
   "metadata": {},
   "source": [
    "### Determine the heat of formation of *CH3\n",
    "\n",
    "This is a little more tricky and requires a thermodynamic cycle to determine the heat of formation of $^*CH_3$ from the following reaction\n",
    "$$CH_3I + 2 Pt \\rightleftharpoons \\,^*CH_3 +\\,  ^*I $$ \n",
    "which has a heat of reaction of -210 kJ mol$^{-1}$ at 320 K.\n",
    "\n",
    "\n",
    "The heat of formation of $CH_3I$ is 14.86 kJ mol$^{-1}$ at STP, which needs to be adjusted to 320K. Combined with the experimentally measured heat of reaction, the heat of formation of $^*CH3$ and $^*I$ can be determined. The heat of formation of $^*I$ at this coverage is -140 kJ mol$^{-1}$ (at 0K!!!). \n"
   ]
  },
  {
   "cell_type": "code",
   "execution_count": 9,
   "id": "4d04ba7b",
   "metadata": {},
   "outputs": [
    {
     "name": "stdout",
     "output_type": "stream",
     "text": [
      "adsorbate heat of formation at Texp=-54.17 kJ/mol\n",
      "adsorbate heat of formation at 298 =-54.98 kJ/mol\n",
      "adsorbate heat of formation at 0K =-47.21 kJ/mol\n"
     ]
    }
   ],
   "source": [
    "hf=-210+get_h_texp('CH3I',320)\n",
    "hf_CH3=hf-(-140)\n",
    "hf_stp=hf_CH3+get_hf_ads_corr('CH3X', 320)\n",
    "hf_0K=hf_stp-correction_factor['CH3X']\n",
    "print(f\"adsorbate heat of formation at Texp={hf_CH3:.4} kJ/mol\")\n",
    "print(f\"adsorbate heat of formation at 298 ={hf_stp:.4} kJ/mol\")\n",
    "print(f\"adsorbate heat of formation at 0K ={hf_0K:.4} kJ/mol\")"
   ]
  },
  {
   "cell_type": "markdown",
   "id": "6a4151c1",
   "metadata": {},
   "source": [
    "### Determine the heat of formation of *CH2\n",
    "\n",
    "This is a little more tricky and requires a thermodynamic cycle to determine the heat of formation of $^*CH_2$ from the following reaction\n",
    "$$CH_2I + 3 Pt \\rightleftharpoons \\,^*CH_2 + 2\\, ^*I $$ \n",
    "which has a heat of reaction of -210 kJ mol$^{-1}$ at 100 K.\n",
    "\n",
    "\n",
    "The heat of formation of $CH_2I_2$ is 107.9 kJ mol$^{-1}$ at STP, which needs to be adjusted to 100K. Combined with the experimentally measured heat of reaction, the heat of formation of $^*CH_2$ and $2 ^*I$ can be determined. The heat of formation of $^*I$ at this coverage is -140 kJ mol$^{-1}$ (at 0K!!!). \n"
   ]
  },
  {
   "cell_type": "code",
   "execution_count": 10,
   "id": "4675d47c",
   "metadata": {},
   "outputs": [
    {
     "name": "stdout",
     "output_type": "stream",
     "text": [
      "adsorbate heat of formation at Texp=179.7 kJ/mol\n",
      "adsorbate heat of formation at 298 =183.1 kJ/mol\n",
      "adsorbate heat of formation at 0K =188.7 kJ/mol\n"
     ]
    }
   ],
   "source": [
    "hf=-210+get_h_texp('CH2I2',100)\n",
    "hf_CH2=hf-2*(-140)\n",
    "hf_stp=hf_CH2+get_hf_ads_corr('CH2X', 100)\n",
    "hf_0K=hf_stp-correction_factor['CH2X']\n",
    "print(f\"adsorbate heat of formation at Texp={hf_CH2:.4} kJ/mol\")\n",
    "print(f\"adsorbate heat of formation at 298 ={hf_stp:.4} kJ/mol\")\n",
    "print(f\"adsorbate heat of formation at 0K ={hf_0K:.4} kJ/mol\")"
   ]
  },
  {
   "cell_type": "markdown",
   "id": "2cf2780e",
   "metadata": {},
   "source": [
    "### Determine the heat of formation of *CH\n",
    "\n",
    "This is a little more tricky and requires a thermodynamic cycle to determine the heat of formation of $^*CH$ from the following reaction\n",
    "$$CH_2I_2 + 3 Pt \\rightleftharpoons \\,^*CH + 2 ^*I + ^*H$$ \n",
    "which has a heat of reaction of -506 kJ mol$^{-1}$ at 210 K.\n",
    "\n",
    "\n",
    "The heat of formation of $CH_2I_2$ is 107.9 kJ mol$^{-1}$ at STP, which needs to be adjusted to 210K. Combined with the experimentally measured heat of reaction, the heat of formation of $^*CH$ and $2 ^*I$ and $^*H$ can be determined. The heat of formation of $^*I$ at this coverage is -140 kJ mol$^{-1}$ (at 0K!!!). \n"
   ]
  },
  {
   "cell_type": "code",
   "execution_count": 11,
   "id": "1e9c5a39",
   "metadata": {},
   "outputs": [
    {
     "name": "stdout",
     "output_type": "stream",
     "text": [
      "adsorbate heat of formation at Texp=-40.22 kJ/mol\n",
      "adsorbate heat of formation at 298 =-38.63 kJ/mol\n",
      "adsorbate heat of formation at 0K =-35.75 kJ/mol\n"
     ]
    }
   ],
   "source": [
    "hf=-470+get_h_texp('CH2I2',210)\n",
    "hf_CH=hf-2*(-140)-(-35.99+get_hf_ads_corr('HX', 210))\n",
    "hf_stp=hf_CH+get_hf_ads_corr('CHX', 210)\n",
    "hf_0K=hf_stp-correction_factor['CHX']\n",
    "print(f\"adsorbate heat of formation at Texp={hf_CH:.4} kJ/mol\")\n",
    "print(f\"adsorbate heat of formation at 298 ={hf_stp:.4} kJ/mol\")\n",
    "print(f\"adsorbate heat of formation at 0K ={hf_0K:.4} kJ/mol\")"
   ]
  },
  {
   "cell_type": "markdown",
   "id": "f014cf3c",
   "metadata": {},
   "source": [
    "### Determine the heat of formation of *C3H8\n",
    "\n",
    "This can be directly computed from the reported experimental value. \n",
    "$$C_3H_8 + Pt \\rightleftharpoons \\,^*C_3H_8 $$ \n",
    "The heat of reaction for this step is -41.3 kJ mol$^{-1}$.\n",
    "\n",
    "$$\\Delta_fH_{*C_3H_8} - \\Delta_fH_{C_3H_8} - \\Delta_fH_{Pt}=-41.3 kJ mol^{-1}$$\n",
    "\n",
    "The heat of formation of $CH_3CH_2CH_3$ has to be corrected to the experimental temperature of 139K."
   ]
  },
  {
   "cell_type": "code",
   "execution_count": 12,
   "id": "66c454be",
   "metadata": {},
   "outputs": [
    {
     "name": "stdout",
     "output_type": "stream",
     "text": [
      "adsorbate heat of formation at Texp=-155.7 kJ/mol\n",
      "adsorbate heat of formation at 298 =-145.1 kJ/mol\n",
      "adsorbate heat of formation at 0K =-122.7 kJ/mol\n"
     ]
    }
   ],
   "source": [
    "hf_hads=-41.3+get_h_texp('C3H8', 139)\n",
    "hf_stp=hf_hads+get_hf_ads_corr('C3H8X', 139)\n",
    "hf_0K=hf_stp-correction_factor['C3H8X']\n",
    "print(f\"adsorbate heat of formation at Texp={hf_hads:.4} kJ/mol\")\n",
    "print(f\"adsorbate heat of formation at 298 ={hf_stp:.4} kJ/mol\")\n",
    "print(f\"adsorbate heat of formation at 0K ={hf_0K:.4} kJ/mol\")"
   ]
  },
  {
   "cell_type": "markdown",
   "id": "922b842d",
   "metadata": {},
   "source": [
    "### Determine the heat of formation of *OCH3\n",
    "\n",
    "A value of -170 kJ mol$^{-1}$ is reported at a temperature of 150 K. Compute the heat of formation at 298 K with our temperature dependence. \n"
   ]
  },
  {
   "cell_type": "code",
   "execution_count": 13,
   "id": "5c6f9e91",
   "metadata": {},
   "outputs": [
    {
     "name": "stdout",
     "output_type": "stream",
     "text": [
      "adsorbate heat of formation at Texp=-177.0 kJ/mol\n",
      "adsorbate heat of formation at 298 =-171.8 kJ/mol\n",
      "adsorbate heat of formation at 0K =-161.2 kJ/mol\n"
     ]
    }
   ],
   "source": [
    "hf_hads=-177.0\n",
    "hf_stp=hf_hads+get_hf_ads_corr('CH3OX', 150)\n",
    "hf_0K=hf_stp-correction_factor['CH3OX']\n",
    "print(f\"adsorbate heat of formation at Texp={hf_hads:.4} kJ/mol\")\n",
    "print(f\"adsorbate heat of formation at 298 ={hf_stp:.4} kJ/mol\")\n",
    "print(f\"adsorbate heat of formation at 0K ={hf_0K:.4} kJ/mol\")"
   ]
  },
  {
   "cell_type": "markdown",
   "id": "9827ab3e",
   "metadata": {},
   "source": [
    "### Determine the heat of formation of *HCOOH\n",
    "\n",
    "A value of -441 kJ mol$^{-1}$ is reported at a temperature of 100 K. Compute the heat of formation at 298 K with our temperature dependence. \n"
   ]
  },
  {
   "cell_type": "code",
   "execution_count": 14,
   "id": "e42f5d96",
   "metadata": {},
   "outputs": [
    {
     "name": "stdout",
     "output_type": "stream",
     "text": [
      "adsorbate heat of formation at Texp=-443.8 kJ/mol\n",
      "adsorbate heat of formation at 298 =-435.1 kJ/mol\n",
      "adsorbate heat of formation at 0K =-428.4 kJ/mol\n",
      "-384.82801216929363\n"
     ]
    }
   ],
   "source": [
    "hf_hads=-58+get_h_texp('HCOOH', 100)\n",
    "hf_stp=hf_hads+get_hf_ads_corr('HCOOHX', 100)\n",
    "hf_0K=hf_stp-correction_factor['HCOOHX']\n",
    "print(f\"adsorbate heat of formation at Texp={hf_hads:.4} kJ/mol\")\n",
    "print(f\"adsorbate heat of formation at 298 ={hf_stp:.4} kJ/mol\")\n",
    "print(f\"adsorbate heat of formation at 0K ={hf_0K:.4} kJ/mol\")\n",
    "print(get_h_texp('HCOOH', 130))"
   ]
  },
  {
   "cell_type": "markdown",
   "id": "be25bafe",
   "metadata": {},
   "source": [
    "### Determine the heat of formation of HCO*O\n",
    "\n",
    "A value of -347 kJ mol$^{-1}$ is reported at a temperature of 130 K. Compute the heat of formation at 298 K with our temperature dependence. \n"
   ]
  },
  {
   "cell_type": "code",
   "execution_count": 15,
   "id": "b975242a",
   "metadata": {},
   "outputs": [
    {
     "name": "stdout",
     "output_type": "stream",
     "text": [
      "adsorbate heat of formation at Texp=-359.0 kJ/mol\n",
      "adsorbate heat of formation at 298 =-351.3 kJ/mol\n",
      "adsorbate heat of formation at 0K =-347.3 kJ/mol\n"
     ]
    }
   ],
   "source": [
    "hf_hads=-359.\n",
    "hf_stp=hf_hads+get_hf_ads_corr('HCOOX', 130)\n",
    "hf_0K=hf_stp-correction_factor['HCOOX']\n",
    "print(f\"adsorbate heat of formation at Texp={hf_hads:.4} kJ/mol\")\n",
    "print(f\"adsorbate heat of formation at 298 ={hf_stp:.4} kJ/mol\")\n",
    "print(f\"adsorbate heat of formation at 0K ={hf_0K:.4} kJ/mol\")"
   ]
  },
  {
   "cell_type": "markdown",
   "id": "7f5b694b",
   "metadata": {},
   "source": [
    "### Determine the heat of formation of HC*O*O\n",
    "\n",
    "A value of -375 kJ mol$^{-1}$ is reported at a temperature of 130 K. Compute the heat of formation at 298 K with our temperature dependence. "
   ]
  },
  {
   "cell_type": "code",
   "execution_count": 16,
   "id": "50bbc932",
   "metadata": {},
   "outputs": [
    {
     "name": "stdout",
     "output_type": "stream",
     "text": [
      "adsorbate heat of formation at Texp=-375.0 kJ/mol\n",
      "adsorbate heat of formation at 298 =-368.6 kJ/mol\n"
     ]
    }
   ],
   "source": [
    "hf_hads=-375.\n",
    "hf_stp=hf_hads+get_hf_ads_corr('HCOXOX', 150)\n",
    "print(f\"adsorbate heat of formation at Texp={hf_hads:.4} kJ/mol\")\n",
    "print(f\"adsorbate heat of formation at 298 ={hf_stp:.4} kJ/mol\")"
   ]
  },
  {
   "cell_type": "markdown",
   "id": "e6b3efa1",
   "metadata": {},
   "source": [
    "Determine the heat of formation of *OH at 130 K"
   ]
  },
  {
   "cell_type": "code",
   "execution_count": 17,
   "id": "8b09c10a",
   "metadata": {},
   "outputs": [
    {
     "name": "stdout",
     "output_type": "stream",
     "text": [
      "adsorbate heat of formation at 130 =-212.1 kJ/mol\n"
     ]
    }
   ],
   "source": [
    "hf_stp=-207\n",
    "hf_130K=hf_stp-get_hf_ads_corr('HOX', 130)\n",
    "print(f\"adsorbate heat of formation at 130 ={hf_130K:.4} kJ/mol\")"
   ]
  },
  {
   "cell_type": "markdown",
   "id": "46b8ff06",
   "metadata": {},
   "source": [
    "### Determine the heat of formation of *CHCH3\n",
    "\n",
    "A value of -138 kJ mol$^{-1}$ is reported at a temperature of 300 K. Compute the heat of formation at 298 K with our temperature dependence. "
   ]
  },
  {
   "cell_type": "code",
   "execution_count": 3,
   "id": "6bbdc878",
   "metadata": {},
   "outputs": [
    {
     "name": "stdout",
     "output_type": "stream",
     "text": [
      "adsorbate heat of formation at Texp=-85.54 kJ/mol\n",
      "adsorbate heat of formation at 298 =-85.64 kJ/mol\n",
      "adsorbate heat of formation at 0K =-75.26 kJ/mol\n"
     ]
    }
   ],
   "source": [
    "hf_hads=-138+get_h_texp('C2H4', 300)\n",
    "hf_stp=hf_hads+get_hf_ads_corr('CHCH3X', 300)\n",
    "hf_0K=hf_stp-correction_factor['CHCH3X']\n",
    "print(f\"adsorbate heat of formation at Texp={hf_hads:.4} kJ/mol\")\n",
    "print(f\"adsorbate heat of formation at 298 ={hf_stp:.4} kJ/mol\")\n",
    "print(f\"adsorbate heat of formation at 0K ={hf_0K:.4} kJ/mol\")"
   ]
  },
  {
   "cell_type": "markdown",
   "id": "3d08c028",
   "metadata": {},
   "source": [
    "### Determine the heat of formation of *CCH3\n",
    "\n",
    "A value of -99 kJ mol$^{-1}$ is reported at a temperature of 300 K. Compute the heat of formation at 298 K with our temperature dependence."
   ]
  },
  {
   "cell_type": "code",
   "execution_count": 4,
   "id": "6830171f",
   "metadata": {},
   "outputs": [
    {
     "name": "stdout",
     "output_type": "stream",
     "text": [
      "adsorbate heat of formation at Texp=-46.54 kJ/mol\n",
      "adsorbate heat of formation at 298 =-46.63 kJ/mol\n",
      "adsorbate heat of formation at 0K =-39.87 kJ/mol\n"
     ]
    }
   ],
   "source": [
    "hf_hads=-99+get_h_texp('C2H4', 300)\n",
    "hf_stp=hf_hads+get_hf_ads_corr('CCH3X', 300)\n",
    "hf_0K=hf_stp-correction_factor['CCH3X']\n",
    "print(f\"adsorbate heat of formation at Texp={hf_hads:.4} kJ/mol\")\n",
    "print(f\"adsorbate heat of formation at 298 ={hf_stp:.4} kJ/mol\")\n",
    "print(f\"adsorbate heat of formation at 0K ={hf_0K:.4} kJ/mol\")"
   ]
  },
  {
   "cell_type": "code",
   "execution_count": null,
   "id": "0734b3eb",
   "metadata": {},
   "outputs": [],
   "source": []
  }
 ],
 "metadata": {
  "kernelspec": {
   "display_name": "Python 3 (ipykernel)",
   "language": "python",
   "name": "python3"
  },
  "language_info": {
   "codemirror_mode": {
    "name": "ipython",
    "version": 3
   },
   "file_extension": ".py",
   "mimetype": "text/x-python",
   "name": "python",
   "nbconvert_exporter": "python",
   "pygments_lexer": "ipython3",
   "version": "3.7.13"
  }
 },
 "nbformat": 4,
 "nbformat_minor": 5
}
