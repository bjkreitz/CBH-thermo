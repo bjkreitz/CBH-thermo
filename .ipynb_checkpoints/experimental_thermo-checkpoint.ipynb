{
 "cells": [
  {
   "cell_type": "markdown",
   "id": "bc4012c1",
   "metadata": {},
   "source": [
    "# Notebook to compute the heat of formation of the anchor species for the CBH approach\n",
    "\n",
    "created by Bjarne Kreitz (Brown University)\n",
    "\n",
    "This notebook stores the available literature data and computes the heat of formation of the reference species for the CBH paper\n",
    "\n",
    "\n",
    "| reaction | $$\\Delta H_{rxn}\\, /\\, \\text{kJ mol}^{-1}$$   | temperature / K | reference | \n",
    "|--- |----------| ------| --------|\n",
    "| $$H_2 + 2 Pt \\rightleftharpoons 2\\, ^*H $$ | -72 | 300 | Wellendorff et al.|\n",
    "| $$O_2 + 2 Pt \\rightleftharpoons 2\\, ^*O $$ | -208 | 515 | Wellendorff et al.|\n",
    "| $$CO +  Pt \\rightleftharpoons \\,^*CO $$ | -120 | 340 | Wellendorff et al.|\n",
    "| $$CH_3OH +  Pt \\rightleftharpoons \\, CH_3OH^* $$ | -56 | 100 | Wellendorff et al.|\n",
    "| $$CH_4 +  Pt \\rightleftharpoons \\, CH_4^* $$ | -15 | 63 | Wellendorff et al.|\n",
    "| $$C_2H_6 +  Pt \\rightleftharpoons \\,^*CO $$ | -28.5 | 106| Wellendorff et al.|\n",
    "| $$H_2O +  Pt \\rightleftharpoons \\,^*H_2O $$ | -51.3 | 120 | Wellendorff et al.|\n",
    "| $$H_2CO +  Pt \\rightleftharpoons \\,^*H_2CO $$ | -55.23 | 235 | Abbas et al.|\n",
    "| $$C_2H_4 +  Pt \\rightleftharpoons \\,^*C_2H_4 $$ | -37.6 | 285 | Windham et al.|\n",
    "| $$CH_3I +  2 Pt \\rightleftharpoons \\,^*CH_3 + ^*I $$ | -212 | 320 | Windham et al.|\n",
    "| $$CH_2I_2 +  2 Pt \\rightleftharpoons \\,^*CH_2 + 2 ^*I $$ | -212 | 100 | Windham et al.|\n",
    "| $$CH_2I_2 +  3 Pt \\rightleftharpoons \\,^*CH + 2 ^*I + ^*H $$ | -508 | 210 | Windham et al.|\n",
    "| $$C_3H_8 +  Pt \\rightleftharpoons \\,^*CO $$ | -41.3 | 139| Wellendorff et al.|"
   ]
  },
  {
   "cell_type": "markdown",
   "id": "8418fc06",
   "metadata": {},
   "source": [
    "Values for gas-phase species from the ATcT database (version 1.124\n",
    ")\n",
    "\n",
    "| species | $$\\Delta_f H\\, /\\, \\text{kJ mol}^{-1}$$   | temperature / K |\n",
    "|--- |----------| ------| \n",
    "| $$H_2$$ | 0 | 298.15 | \n",
    "| $$H$$ | 217.998 | 298.15 | \n",
    "| $$O_2$$ | 0 | 298.15 | \n",
    "| $$CO$$ | -110.524 | 298.15 | \n",
    "| $$CH_4$$ | -74.520 | 298.15 | \n",
    "| $$CH_3OH$$ | -200.92 | 298.15 | \n",
    "| $$C_2H_6$$ | -84.02| 298.15 | \n",
    "| $$H_2O$$ | -241.801| 298.15 | \n",
    "| $$H_2CO$$ | -109.229| 298.15 | \n",
    "| $$C_2H_4$$ | 52.38| 298.15 | \n",
    "| $$CH_3I$$ | 14.86| 298.15 |\n",
    "| $$CH_2I_2$$ | 119.16 | 298.15 | \n",
    "\n"
   ]
  },
  {
   "cell_type": "code",
   "execution_count": 1,
   "id": "754d875d",
   "metadata": {},
   "outputs": [],
   "source": [
    "import numpy as np\n",
    "import cantera as ct\n",
    "\n",
    "cti_file = 'thermo_polynomials/chem.cti'\n",
    "    \n",
    "gas = ct.Solution(cti_file, 'gas')\n",
    "gas.TPX = 298.15, ct.one_atm, 'N2:1'\n",
    "\n",
    "#Dictionary with all values from the ATcT database\n",
    "ATcT={'H2':0, \n",
    "      'H':217.998, \n",
    "      'O2':0, \n",
    "      'CO':-110.524,\n",
    "      'CH4':-74.520,\n",
    "      'CH3OH':-200.92,\n",
    "      'C2H6':-84.02,\n",
    "      'H2O': -241.801,\n",
    "      'CH2O':-109.229,\n",
    "      'C2H4':52.38,\n",
    "      'CH3I':14.86,\n",
    "      'CH2I2':119.16,\n",
    "      'C3H8':-105.00,\n",
    "        }\n",
    "\n",
    "def get_h(spcs,temp):\n",
    "    \n",
    "    hf_atct=ATcT[spcs]\n",
    "    idx=gas.species_index(spcs)\n",
    "    #Compute the enthalpy at standard conditions\n",
    "    gas.TP=298.15, ct.one_atm\n",
    "    hf_std=gas.standard_enthalpies_RT[idx]\n",
    "    hf_std*=gas.T*ct.gas_constant/1e6 #in kJ/mol\n",
    "\n",
    "\n",
    "    #compute the enthalpy at the temperature of the experiment\n",
    "    gas.TP=temp, ct.one_atm\n",
    "    hf=gas.standard_enthalpies_RT[idx]\n",
    "    hf*=gas.T*ct.gas_constant/1e6 #in kJ/mol\n",
    "\n",
    "    delta_hf_polynomial=hf-hf_std\n",
    "    \n",
    "    hf_corrected=hf_atct+delta_hf_polynomial\n",
    "    return hf_corrected\n",
    "\n",
    "def get_hf_std_corr(spcs,temp):\n",
    "\n",
    "    idx=gas.species_index(spcs)\n",
    "    #Compute the enthalpy at standard conditions\n",
    "    gas.TP=298.15, ct.one_atm\n",
    "    hf_std=gas.standard_enthalpies_RT[idx]\n",
    "    hf_std*=gas.T*ct.gas_constant/1e6 #in kJ/mol\n",
    "\n",
    "    #compute the enthalpy at the temperature of the experiment\n",
    "    gas.TP=temp, ct.one_atm\n",
    "    hf=gas.standard_enthalpies_RT[idx]\n",
    "    hf*=gas.T*ct.gas_constant/1e6 #in kJ/mol\n",
    "\n",
    "    delta_hf_polynomial=hf_std-hf\n",
    "    \n",
    "    return delta_hf_polynomial"
   ]
  },
  {
   "cell_type": "markdown",
   "id": "399c283e",
   "metadata": {},
   "source": [
    "### Determine the heat of formation of H*\n",
    "\n",
    "This can be directly compute from the reported experimental value. \n",
    "$$H_2 + 2 Pt \\rightleftharpoons 2\\, ^*H $$ \n",
    "\n",
    "$$2\\Delta_fH_{H*} - \\Delta_fH_{H_2} - 2\\Delta_fH_{Pt}=-72 kJ mol^{-1}$$\n",
    "The metal site will be omitted in allfollowing fields because it is always 0 by definition. The heat of reaction for this steps -72 kJ mol$^{-1}$.\n",
    "\n",
    "The heat of formation of H2 has to be corrected to the experimental temperature of 300K.\n"
   ]
  },
  {
   "cell_type": "code",
   "execution_count": 2,
   "id": "e33e4c74",
   "metadata": {
    "scrolled": true
   },
   "outputs": [
    {
     "name": "stdout",
     "output_type": "stream",
     "text": [
      "heat of formation=-35.97 kJ/mol\n",
      "heat of formation=-35.99 kJ/mol\n"
     ]
    }
   ],
   "source": [
    "hf_hads=-72+get_h('H2', 300)\n",
    "hf_hads/=2\n",
    "hf_std=hf_hads+get_hf_std_corr('HX', 300)\n",
    "print(f\"heat of formation={hf_hads:.4} kJ/mol\")\n",
    "print(f\"heat of formation={hf_std:.4} kJ/mol\")"
   ]
  },
  {
   "cell_type": "markdown",
   "id": "0ac886d1",
   "metadata": {},
   "source": [
    "### Determine the heat of formation of O*\n",
    "\n",
    "This can be directly compute from the reported experimental value. \n",
    "$$O_2 + 2 Pt \\rightleftharpoons 2\\, ^*O $$ \n",
    "\n",
    "$$2\\Delta_fH_{O*} - \\Delta_fH_{O_2} - 2\\Delta_fH_{Pt}=-208 kJ mol^{-1}$$\n",
    "The heat of reaction for this steps -208 kJ mol$^{-1}$.\n",
    "\n",
    "The heat of formation of O2 has to be corrected to the experimental temperature of 515K."
   ]
  },
  {
   "cell_type": "code",
   "execution_count": 3,
   "id": "bec9c24a",
   "metadata": {},
   "outputs": [
    {
     "name": "stdout",
     "output_type": "stream",
     "text": [
      "heat of formation=-100.72 kJ/mol\n",
      "heat of formation=-105.4 kJ/mol\n"
     ]
    }
   ],
   "source": [
    "hf_hads=-208+get_h('O2', 515)\n",
    "hf_hads/=2\n",
    "hf_std=hf_hads+get_hf_std_corr('OX', 515)\n",
    "print(f\"heat of formation={hf_hads:.5} kJ/mol\")\n",
    "print(f\"heat of formation={hf_std:.5} kJ/mol\")"
   ]
  },
  {
   "cell_type": "markdown",
   "id": "12d86c27",
   "metadata": {},
   "source": [
    "### Determine the heat of formation of *CO\n",
    "\n",
    "This can be directly compute from the reported experimental value. \n",
    "$$CO + Pt \\rightleftharpoons \\,^*CO $$ \n",
    "\n",
    "$$\\Delta_fH_{*CO} - \\Delta_fH_{CO} - \\Delta_fH_{Pt}=-120 kJ mol^{-1}$$\n",
    "The heat of reaction for this steps -120 kJ mol$^{-1}$.\n",
    "\n",
    "The heat of formation of CO has to be corrected to the experimental temperature of 340K."
   ]
  },
  {
   "cell_type": "code",
   "execution_count": 4,
   "id": "f26cc586",
   "metadata": {},
   "outputs": [
    {
     "name": "stdout",
     "output_type": "stream",
     "text": [
      "heat of formation=-229.3 kJ/mol\n",
      "heat of formation=-230.9 kJ/mol\n"
     ]
    }
   ],
   "source": [
    "hf_hads=-120+get_h('CO', 340)\n",
    "hf_std=hf_hads+get_hf_std_corr('OCX', 340)\n",
    "print(f\"heat of formation={hf_hads:.4} kJ/mol\")\n",
    "print(f\"heat of formation={hf_std:.4} kJ/mol\")"
   ]
  },
  {
   "cell_type": "markdown",
   "id": "fef975c6",
   "metadata": {},
   "source": [
    "### Determine the heat of formation of *CH4\n",
    "\n",
    "This can be directly compute from the reported experimental value. \n",
    "$$CH_4 + Pt \\rightleftharpoons \\,^*CH_4 $$ \n",
    "The heat of reaction for this steps -15 kJ mol$^{-1}$.\n",
    "\n",
    "$$\\Delta_fH_{*CH4} - \\Delta_fH_{CH4} - \\Delta_fH_{Pt}=-15 kJ mol^{-1}$$\n",
    "\n",
    "The heat of formation of $CH_4$ has to be corrected to the experimental temperature of 63K."
   ]
  },
  {
   "cell_type": "code",
   "execution_count": 5,
   "id": "2b774f5b",
   "metadata": {},
   "outputs": [
    {
     "name": "stdout",
     "output_type": "stream",
     "text": [
      "heat of formation=-89.53 kJ/mol\n",
      "heat of formation=-79.91 kJ/mol\n"
     ]
    }
   ],
   "source": [
    "hf_hads=-15+get_h('CH4', 298)\n",
    "hf_std=hf_hads+get_hf_std_corr('CH4X', 63)\n",
    "print(f\"heat of formation={hf_hads:.4} kJ/mol\")\n",
    "print(f\"heat of formation={hf_std:.4} kJ/mol\")"
   ]
  },
  {
   "cell_type": "markdown",
   "id": "668cb24b",
   "metadata": {},
   "source": [
    "### Determine the heat of formation of *CH3OH\n",
    "\n",
    "This can be directly compute from the reported experimental value. \n",
    "$$CH_3OH + Pt \\rightleftharpoons \\,^*CH_3OH $$ \n",
    "The heat of reaction for this steps -56 kJ mol$^{-1}$.\n",
    "\n",
    "$$\\Delta_fH_{*CH_3OH} - \\Delta_fH_{CH_3OH} - \\Delta_fH_{Pt}=-56 kJ mol^{-1}$$\n",
    "\n",
    "The heat of formation of $CH_3OH$ has to be corrected to the experimental temperature of 100K."
   ]
  },
  {
   "cell_type": "code",
   "execution_count": 6,
   "id": "95cd4a4d",
   "metadata": {},
   "outputs": [
    {
     "name": "stdout",
     "output_type": "stream",
     "text": [
      "heat of formation=-264.5 kJ/mol\n",
      "heat of formation=-256.3 kJ/mol\n"
     ]
    }
   ],
   "source": [
    "hf_hads=-56+get_h('CH3OH', 100)\n",
    "hf_std=hf_hads+get_hf_std_corr('CH3OHX', 100)\n",
    "print(f\"heat of formation={hf_hads:.4} kJ/mol\")\n",
    "print(f\"heat of formation={hf_std:.4} kJ/mol\")"
   ]
  },
  {
   "cell_type": "markdown",
   "id": "d5b974db",
   "metadata": {},
   "source": [
    "### Determine the heat of formation of *C2H6\n",
    "\n",
    "This can be directly compute from the reported experimental value. \n",
    "$$C_2H_6 + Pt \\rightleftharpoons \\,^*C_2H_6 $$ \n",
    "The heat of reaction for this steps -28.5 kJ mol$^{-1}$.\n",
    "\n",
    "$$\\Delta_fH_{*C_2H_6} - \\Delta_fH_{C_2H_6} - \\Delta_fH_{Pt}=-28.5 kJ mol^{-1}$$\n",
    "\n",
    "The heat of formation of $CH_3OH$ has to be corrected to the experimental temperature of 106K."
   ]
  },
  {
   "cell_type": "code",
   "execution_count": 7,
   "id": "efd0445b",
   "metadata": {},
   "outputs": [
    {
     "name": "stdout",
     "output_type": "stream",
     "text": [
      "heat of formation=-120.7 kJ/mol\n",
      "heat of formation=-111.7 kJ/mol\n"
     ]
    }
   ],
   "source": [
    "hf_hads=-28.5+get_h('C2H6', 106)\n",
    "hf_std=hf_hads+get_hf_std_corr('C2H6X', 106)\n",
    "print(f\"heat of formation={hf_hads:.4} kJ/mol\")\n",
    "print(f\"heat of formation={hf_std:.4} kJ/mol\")"
   ]
  },
  {
   "cell_type": "markdown",
   "id": "c8521172",
   "metadata": {},
   "source": [
    "### Determine the heat of formation of *H_2O\n",
    "\n",
    "This can be directly compute from the reported experimental value. \n",
    "$$H_2O + Pt \\rightleftharpoons \\,^*H_2O $$ \n",
    "The heat of reaction for this steps -51.3 kJ mol$^{-1}$.\n",
    "\n",
    "$$\\Delta_fH_{*H_2O} - \\Delta_fH_{H_2O} - \\Delta_fH_{Pt}=-51.3 kJ mol^{-1}$$\n",
    "This value is a little iffy. It's D2O and at high coverage. See if I can find something better.\n",
    "The heat of formation of $H_2O$ has to be corrected to the experimental temperature of 120K."
   ]
  },
  {
   "cell_type": "code",
   "execution_count": 8,
   "id": "fed78198",
   "metadata": {},
   "outputs": [
    {
     "name": "stdout",
     "output_type": "stream",
     "text": [
      "heat of formation=-276.2 kJ/mol\n",
      "heat of formation=-270.4 kJ/mol\n"
     ]
    }
   ],
   "source": [
    "hf_hads=-28.5+get_h('H2O', 120)\n",
    "hf_std=hf_hads+get_hf_std_corr('H2OX', 120)\n",
    "print(f\"heat of formation={hf_hads:.4} kJ/mol\")\n",
    "print(f\"heat of formation={hf_std:.4} kJ/mol\")"
   ]
  },
  {
   "cell_type": "markdown",
   "id": "09aa72ce",
   "metadata": {},
   "source": [
    "### Determine the heat of formation of *H_2CO\n",
    "\n",
    "This can be directly compute from the reported experimental value. \n",
    "$$H_2CO + Pt \\rightleftharpoons \\,^*H_2CO $$ \n",
    "The heat of reaction for this steps -55.23 kJ mol$^{-1}$.\n",
    "\n",
    "$$\\Delta_fH_{*H_2CO} - \\Delta_fH_{H_2CO} - \\Delta_fH_{Pt}=-55.23 kJ mol^{-1}$$\n",
    "The heat of formation of $H_2CO$ has to be corrected to the experimental temperature of 235K."
   ]
  },
  {
   "cell_type": "code",
   "execution_count": 9,
   "id": "c3d0264b",
   "metadata": {},
   "outputs": [
    {
     "name": "stdout",
     "output_type": "stream",
     "text": [
      "heat of formation=-166.6 kJ/mol\n",
      "heat of formation=-164.0 kJ/mol\n"
     ]
    }
   ],
   "source": [
    "hf_hads=-55.23+get_h('CH2O', 235)\n",
    "hf_std=hf_hads+get_hf_std_corr('CH2OX', 235)\n",
    "print(f\"heat of formation={hf_hads:.4} kJ/mol\")\n",
    "print(f\"heat of formation={hf_std:.4} kJ/mol\")"
   ]
  },
  {
   "cell_type": "markdown",
   "id": "9cce22c3",
   "metadata": {},
   "source": [
    "### Determine the heat of formation of *C2H4\n",
    "\n",
    "This can be directly compute from the reported experimental value. \n",
    "$$C_2H_4 + Pt \\rightleftharpoons \\,^*C_2H_4 $$ \n",
    "The heat of reaction for this steps -37.656 kJ mol$^{-1}$.\n",
    "\n",
    "$$\\Delta_fH_{*C_2H_4} - \\Delta_fH_{C_2H_4} - \\Delta_fH_{Pt}=-37.656 kJ mol^{-1}$$\n",
    "The heat of formation of $C_2H_4$ has to be corrected to the experimental temperature of 285K."
   ]
  },
  {
   "cell_type": "code",
   "execution_count": 10,
   "id": "9440143d",
   "metadata": {},
   "outputs": [
    {
     "name": "stdout",
     "output_type": "stream",
     "text": [
      "heat of formation=14.17 kJ/mol\n"
     ]
    }
   ],
   "source": [
    "hf_hads=-37.656+get_h('C2H4', 285)\n",
    "print(f\"heat of formation={hf_hads:.4} kJ/mol\")"
   ]
  },
  {
   "cell_type": "markdown",
   "id": "a63c3beb",
   "metadata": {},
   "source": [
    "### Determine the heat of formation of *CH3\n",
    "\n",
    "This is a little more tricky and requires a thermodynamic cycle to determine the heat of formation of $^*CH_3$ from the following reaction\n",
    "$$CH_3I + 2 Pt \\rightleftharpoons \\,^*CH_3 +\\,  ^*I $$ \n",
    "which has a heat of reaction of -212 kJ mol$^{-1}$ at 320 K.\n",
    "\n",
    "\n",
    "The heat of formation of $CH_3I$ is 14.86 kJ mol$^{-1}$ at STP, which needs to be adjusted to 320K. Combined with the experimentally measured heat of reaction, the heat of formation of $^*CH3$ and $^*I$ can be determined. The heat of formation of $^*I$ at this coverage is -144 kJ mol$^{-1}$ (at 0K!!!). \n"
   ]
  },
  {
   "cell_type": "code",
   "execution_count": 11,
   "id": "4d04ba7b",
   "metadata": {},
   "outputs": [
    {
     "name": "stdout",
     "output_type": "stream",
     "text": [
      "-196.17605713085118\n",
      "-52.17605713085118\n",
      "-53.00800292133011\n"
     ]
    }
   ],
   "source": [
    "hf=-212+get_h('CH3I',320)\n",
    "hf_CH3=hf-(-144)\n",
    "hf_std=hf_CH3+get_hf_std_corr('CH3X', 320)\n",
    "print(hf)\n",
    "print(hf_CH3)\n",
    "print(hf_std)"
   ]
  },
  {
   "cell_type": "markdown",
   "id": "6a4151c1",
   "metadata": {},
   "source": [
    "### Determine the heat of formation of *CH2\n",
    "\n",
    "This is a little more tricky and requires a thermodynamic cycle to determine the heat of formation of $^*CH_2$ from the following reaction\n",
    "$$CH_2I + 3 Pt \\rightleftharpoons \\,^*CH_2 + 2\\, ^*I $$ \n",
    "which has a heat of reaction of -212 kJ mol$^{-1}$ at 100 K.\n",
    "\n",
    "\n",
    "The heat of formation of $CH_2I_2$ is 107.9 kJ mol$^{-1}$ at STP, which needs to be adjusted to 100K. Combined with the experimentally measured heat of reaction, the heat of formation of $^*CH_2$ and $2 ^*I$ can be determined. The heat of formation of $^*I$ at this coverage is -140 kJ mol$^{-1}$ (at 0K!!!). \n"
   ]
  },
  {
   "cell_type": "code",
   "execution_count": 12,
   "id": "4675d47c",
   "metadata": {},
   "outputs": [
    {
     "name": "stdout",
     "output_type": "stream",
     "text": [
      "-102.28731535492562\n",
      "177.71268464507438\n",
      "181.01217262886226\n"
     ]
    }
   ],
   "source": [
    "hf=-212+get_h('CH2I2',100)\n",
    "hf_CH2=hf-2*(-140)\n",
    "hf_std=hf_CH2+get_hf_std_corr('CH2X', 100)\n",
    "print(hf)\n",
    "print(hf_CH2)\n",
    "print(hf_std)"
   ]
  },
  {
   "cell_type": "markdown",
   "id": "2cf2780e",
   "metadata": {},
   "source": [
    "### Determine the heat of formation of *CH\n",
    "\n",
    "This is a little more tricky and requires a thermodynamic cycle to determine the heat of formation of $^*CH$ from the following reaction\n",
    "$$CH_2I_2 + 3 Pt \\rightleftharpoons \\,^*CH + 2 ^*I + ^*H$$ \n",
    "which has a heat of reaction of -508 kJ mol$^{-1}$ at 210 K.\n",
    "\n",
    "\n",
    "The heat of formation of $CH_2I_2$ is 107.9 kJ mol$^{-1}$ at STP, which needs to be adjusted to 210K. Combined with the experimentally measured heat of reaction, the heat of formation of $^*CH$ and $2 ^*I$ and $^*H$ can be determined. The heat of formation of $^*I$ at this coverage is -140 kJ mol$^{-1}$ (at 0K!!!). \n"
   ]
  },
  {
   "cell_type": "code",
   "execution_count": 13,
   "id": "1e9c5a39",
   "metadata": {},
   "outputs": [
    {
     "name": "stdout",
     "output_type": "stream",
     "text": [
      "-393.5043672053638\n",
      "-78.21039008124515\n",
      "-76.7211629795143\n"
     ]
    }
   ],
   "source": [
    "hf=-508+get_h('CH2I2',210)\n",
    "hf_CH=hf-2*(-140)-(-35.99+get_hf_std_corr('HX', 210))\n",
    "hf_std=hf_CH+get_hf_std_corr('CHX', 210)\n",
    "print(hf)\n",
    "print(hf_CH)\n",
    "print(hf_std)"
   ]
  },
  {
   "cell_type": "markdown",
   "id": "f014cf3c",
   "metadata": {},
   "source": [
    "### Determine the heat of formation of *C3H8\n",
    "\n",
    "This can be directly compute from the reported experimental value. \n",
    "$$C_3H_8 + Pt \\rightleftharpoons \\,^*C_3H_8 $$ \n",
    "The heat of reaction for this steps -41.3 kJ mol$^{-1}$.\n",
    "\n",
    "$$\\Delta_fH_{*C_3H_8} - \\Delta_fH_{C_3H_8} - \\Delta_fH_{Pt}=-41.3 kJ mol^{-1}$$\n",
    "\n",
    "The heat of formation of $CH_3CH_2CH_3$ has to be corrected to the experimental temperature of 139K."
   ]
  },
  {
   "cell_type": "code",
   "execution_count": 14,
   "id": "66c454be",
   "metadata": {},
   "outputs": [
    {
     "name": "stdout",
     "output_type": "stream",
     "text": [
      "heat of formation=-155.7 kJ/mol\n",
      "heat of formation=-145.1 kJ/mol\n"
     ]
    }
   ],
   "source": [
    "hf_hads=-41.3+get_h('C3H8', 139)\n",
    "hf_std=hf_hads+get_hf_std_corr('C3H8X', 139)\n",
    "print(f\"heat of formation={hf_hads:.4} kJ/mol\")\n",
    "print(f\"heat of formation={hf_std:.4} kJ/mol\")"
   ]
  },
  {
   "cell_type": "markdown",
   "id": "922b842d",
   "metadata": {},
   "source": [
    "### Determine the heat of formation of *OCH3\n",
    "\n",
    "A value of -170 kJ mol$^{-1}$ is reported at a temperature of 150 K. Compute the heat of formation at 298 K with our temperature dependence. \n"
   ]
  },
  {
   "cell_type": "code",
   "execution_count": 15,
   "id": "5c6f9e91",
   "metadata": {},
   "outputs": [
    {
     "name": "stdout",
     "output_type": "stream",
     "text": [
      "heat of formation=-170.0 kJ/mol\n",
      "heat of formation=-163.4 kJ/mol\n"
     ]
    }
   ],
   "source": [
    "hf_hads=-170.0\n",
    "hf_std=hf_hads+get_hf_std_corr('CH3OX', 150)\n",
    "print(f\"heat of formation={hf_hads:.4} kJ/mol\")\n",
    "print(f\"heat of formation={hf_std:.4} kJ/mol\")"
   ]
  },
  {
   "cell_type": "markdown",
   "id": "9827ab3e",
   "metadata": {},
   "source": [
    "### Determine the heat of formation of *HCOOH\n",
    "\n",
    "A value of -441 kJ mol$^{-1}$ is reported at a temperature of 100 K. Compute the heat of formation at 298 K with our temperature dependence. \n"
   ]
  },
  {
   "cell_type": "code",
   "execution_count": 16,
   "id": "e42f5d96",
   "metadata": {},
   "outputs": [
    {
     "name": "stdout",
     "output_type": "stream",
     "text": [
      "heat of formation=-441.0 kJ/mol\n",
      "heat of formation=-432.7 kJ/mol\n"
     ]
    }
   ],
   "source": [
    "hf_hads=-441.\n",
    "hf_std=hf_hads+get_hf_std_corr('CH3OX', 100)\n",
    "print(f\"heat of formation={hf_hads:.4} kJ/mol\")\n",
    "print(f\"heat of formation={hf_std:.4} kJ/mol\")"
   ]
  },
  {
   "cell_type": "markdown",
   "id": "be25bafe",
   "metadata": {},
   "source": [
    "### Determine the heat of formation of HCO*O\n",
    "\n",
    "A value of -347 kJ mol$^{-1}$ is reported at a temperature of 130 K. Compute the heat of formation at 298 K with our temperature dependence. \n"
   ]
  },
  {
   "cell_type": "code",
   "execution_count": 17,
   "id": "b975242a",
   "metadata": {},
   "outputs": [
    {
     "name": "stdout",
     "output_type": "stream",
     "text": [
      "heat of formation=-347.0 kJ/mol\n",
      "heat of formation=-339.3 kJ/mol\n"
     ]
    }
   ],
   "source": [
    "hf_hads=-347.\n",
    "hf_std=hf_hads+get_hf_std_corr('HCOOX', 130)\n",
    "print(f\"heat of formation={hf_hads:.4} kJ/mol\")\n",
    "print(f\"heat of formation={hf_std:.4} kJ/mol\")"
   ]
  },
  {
   "cell_type": "markdown",
   "id": "7f5b694b",
   "metadata": {},
   "source": [
    "### Determine the heat of formation of HC*O*O\n",
    "\n",
    "A value of -375 kJ mol$^{-1}$ is reported at a temperature of 130 K. Compute the heat of formation at 298 K with our temperature dependence. "
   ]
  },
  {
   "cell_type": "code",
   "execution_count": 18,
   "id": "50bbc932",
   "metadata": {},
   "outputs": [
    {
     "name": "stdout",
     "output_type": "stream",
     "text": [
      "heat of formation=-375.0 kJ/mol\n",
      "heat of formation=-368.6 kJ/mol\n"
     ]
    }
   ],
   "source": [
    "hf_hads=-375.\n",
    "hf_std=hf_hads+get_hf_std_corr('HCOXOX', 150)\n",
    "print(f\"heat of formation={hf_hads:.4} kJ/mol\")\n",
    "print(f\"heat of formation={hf_std:.4} kJ/mol\")"
   ]
  },
  {
   "cell_type": "markdown",
   "id": "6cb722d8",
   "metadata": {},
   "source": []
  }
 ],
 "metadata": {
  "kernelspec": {
   "display_name": "Python 3 (ipykernel)",
   "language": "python",
   "name": "python3"
  },
  "language_info": {
   "codemirror_mode": {
    "name": "ipython",
    "version": 3
   },
   "file_extension": ".py",
   "mimetype": "text/x-python",
   "name": "python",
   "nbconvert_exporter": "python",
   "pygments_lexer": "ipython3",
   "version": "3.7.13"
  }
 },
 "nbformat": 4,
 "nbformat_minor": 5
}
